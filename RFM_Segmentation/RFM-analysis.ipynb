{
 "cells": [
  {
   "cell_type": "markdown",
   "id": "fe38108f",
   "metadata": {},
   "source": [
    "# Проведение RFM-анализа (сегментирования)"
   ]
  },
  {
   "cell_type": "markdown",
   "id": "f7c5449f",
   "metadata": {},
   "source": [
    "# Оглавление  \n",
    "\n",
    "1. [Введение](#1.-Введение)\n",
    "2. [Загрузка библиотек и датасета](#2.-Загрузка-библиотек-и-датасета)    \n",
    "    2.1 [Загрузка библиотек](#2.1-Загрузка-библиотек)  \n",
    "    2.2 [Загрузка датасета](#2.2-Загрузка-датасета)\n",
    "3. [Описание датасета](#3.-Описание-датасета)\n",
    "4. [Подготовка данных](#4.-Подготовка-данных)  \n",
    "    4.1 [Ключевые признаки для RFM-анализа](#4.1-Ключевые-признаки-для-RFM-анализа)  \n",
    "    4.2 [Пропущенные значения](#4.2-Пропущенные-значения)  \n",
    "    4.3 [Типы признаков](#4.3-Типы-признаков)  \n",
    "    4.4 [Добавление столбцы с общей суммой](#4.4-Добавление-столбцы-с-общей-суммой)    \n",
    "5. [RFM-анализ](#5.-RFM-анализ)  \n",
    "    5.1 [R (Recency)](#5.1-R-(Recency))  \n",
    "    5.2 [F (Frequency)](#5.2-F-(Frequency))  \n",
    "    5.3 [M (Monetary)](#5.3-M-(Monetary))  \n",
    "    5.4 [Метки RFM для сегментации](#5.4-Метки-RFM-для-сегментации)  \n",
    "    5.5 [Cегментация клиентов](#5.5-Cегментация-клиентов) \n",
    "6. [Выводы](#6.-Выводы)"
   ]
  },
  {
   "cell_type": "markdown",
   "id": "f2e9a99b",
   "metadata": {},
   "source": [
    "# 1. Введение"
   ]
  },
  {
   "cell_type": "markdown",
   "id": "4d4e8f5e",
   "metadata": {},
   "source": [
    "**RFM-анализ** — метод сегментации. Сегменты это группы потребителей, которые, как правило, не пересекаются. \n",
    "\n",
    "RFM-анализ выделяет **три признака**:\n",
    "\n",
    "- **R (Recency)** — насколько давно клиент сделал свой последний заказ.\n",
    "- **F (Frequency)** — частота заказов клиента.\n",
    "- **M (Monetary)** — общая сумма заказа каждого клиента.\n",
    "\n",
    "По данным признакам будем присваивать **степени 1, 2, 3**, где 1 - высокий уровень, далее по нисходящей. \n",
    "\n",
    "Что можем получить:\n",
    "\n",
    "- **Идентифицировать покупателей, который покупают часто и последний заказ был недавно**. Это ключевые покупатели. Таких клиентов полезно узучить, провести с ними опросы, узнать чем их конкретно привлекает данный сервис и/или товар, установить партнерские отношения. Также можно устроить спецакцию, при этом не обязательно это будет скидка на товар, это может быть, например, приглашение на мероприятие компании или же проведение совместной взаимовыгодной рекламной кампании. \n",
    "- **Идентифицировать покупателей, которые покупают часто, но либо мало, либо с маленьким средним чеком**. С такими клиентами работа будет заключаться в анализе причин покупок на небольшие суммы (вполне возможно, что они не знают о каких-то товарах), а далее нужно постараться поднять их средний чек.\n",
    "- **Идентифицировать покупателей, которые раньше покупали часто и много, но по какой-то причине перестали покупать**. Необходимо проанализировать причины их ухода и попытаться вернуть их на сервис. \n"
   ]
  },
  {
   "cell_type": "markdown",
   "id": "9e1e14c6",
   "metadata": {},
   "source": [
    "# 2. Загрузка библиотек и датасета"
   ]
  },
  {
   "cell_type": "markdown",
   "id": "b92f7968",
   "metadata": {},
   "source": [
    "## 2.1 Загрузка библиотек"
   ]
  },
  {
   "cell_type": "code",
   "execution_count": 2,
   "id": "027b1a81",
   "metadata": {},
   "outputs": [],
   "source": [
    "import pandas as pd\n",
    "import numpy as np\n",
    "\n",
    "import matplotlib.pyplot as plt\n",
    "import seaborn as sns\n",
    "import missingno as msno\n",
    "\n",
    "import datetime\n",
    "from dateutil.relativedelta import relativedelta\n",
    "\n",
    "from kaggle.api.kaggle_api_extended import KaggleApi\n",
    "\n",
    "import warnings\n",
    "warnings.filterwarnings(\"ignore\")"
   ]
  },
  {
   "cell_type": "markdown",
   "id": "7ebe31de",
   "metadata": {},
   "source": [
    "## 2.2 Загрузка датасета"
   ]
  },
  {
   "cell_type": "code",
   "execution_count": 3,
   "id": "53447fc7",
   "metadata": {},
   "outputs": [
    {
     "name": "stdout",
     "output_type": "stream",
     "text": [
      "ref                                                             title                                              size  lastUpdated          downloadCount  voteCount  usabilityRating  \n",
      "--------------------------------------------------------------  ------------------------------------------------  -----  -------------------  -------------  ---------  ---------------  \n",
      "datasets/carrie1/ecommerce-data                                 E-Commerce Data                                     7MB  2017-08-17 02:44:30          84183       1226  0.7058824        \n",
      "datasets/nicapotato/womens-ecommerce-clothing-reviews           Women's E-Commerce Clothing Reviews                 3MB  2018-02-03 19:59:19          46283        921  0.88235295       \n",
      "datasets/olistbr/brazilian-ecommerce                            Brazilian E-Commerce Public Dataset by Olist       43MB  2021-10-01 19:08:27         122215       2218  1.0              \n",
      "datasets/prachi13/customer-analytics                             E-Commerce Shipping Data                         121KB  2021-02-23 12:01:47          13196        216  0.8235294        \n",
      "datasets/benroshan/ecommerce-data                               E-Commerce Data                                    18KB  2020-04-22 11:47:38           6661         81  1.0              \n",
      "datasets/zusmani/pakistans-largest-ecommerce-dataset            Pakistan's Largest E-Commerce Dataset              14MB  2021-01-19 11:42:57           3374        188  0.9705882        \n",
      "datasets/jmmvutu/summer-products-and-sales-in-ecommerce-wish    Sales of summer clothes in E-commerce Wish         44MB  2021-05-03 23:54:28          18579        410  0.9117647        \n",
      "datasets/kolawale/focusing-on-mobile-app-or-website             Linear Regression  E-commerce Dataset              43KB  2019-09-16 19:04:27           3519         40  0.625            \n",
      "b'datasets/berkayalan/ecommerce-sales-dataset                     E-Commerce Sales Dataset \\xf0\\x9f\\x9b\\x92                        271KB  2022-01-16 09:15:59           1202         37  1.0              '\n",
      "datasets/ammaraahmad/us-ecommerce-record-2020                   United States E-Commerce records 2020             160KB  2021-09-02 10:07:45           1821         35  1.0              \n",
      "datasets/vikashrajluhaniwal/fashion-images                      E-commerce Product Images                         335MB  2021-03-27 10:16:46           1012         27  0.9411765        \n",
      "datasets/jmmvutu/ecommerce-users-of-a-french-c2c-fashion-store  E-commerce - Users of a French C2C fashion store    2MB  2020-08-04 00:24:42           3166         81  0.9117647        \n",
      "datasets/mehmetemintastaban/ecommerce-bookstore-dataset         E-Commerce Bookstore Dataset                        8MB  2022-02-18 19:03:34            576         19  1.0              \n",
      "datasets/AppleEcomerceInfo/ecommerce-information                E-commerce Public Dataset by Alibaba                7KB  2019-08-03 20:07:29          29942        144  0.625            \n",
      "datasets/census/e-commerce-retail-sales-series-data-collection  E-Commerce Retail Sales Series Data Collection      5KB  2019-12-07 00:20:44           1477         22  0.64705884       \n",
      "datasets/robertvici/indonesia-top-ecommerce-unicorn-tweets      Indonesia's Top E-Commerce Tweets                  49MB  2020-05-31 04:13:31            580         24  0.875            \n",
      "datasets/wiredwith/websites-list                                Global e-Commerce Websites List                    65MB  2020-08-13 12:55:20            487         18  0.8235294        \n",
      "datasets/zusmani/gufhtugu-publications-dataset-challenge        Gufhtugu Publications Dataset Challenge           954KB  2021-01-29 14:11:37           1258        272  1.0              \n",
      "datasets/aerodinamicc/ecommerce-website-funnel-analysis         E-commerce website                                  1MB  2018-11-23 22:10:55           2024         14  0.4117647        \n",
      "datasets/shashwatwork/ecommerce-data                            E-Commerce Data                                     2MB  2020-08-16 16:01:19            743          9  0.5294118        \n"
     ]
    }
   ],
   "source": [
    "!kaggle datasets list -s 'e-commerce'"
   ]
  },
  {
   "cell_type": "code",
   "execution_count": 4,
   "id": "fa6d829d",
   "metadata": {},
   "outputs": [],
   "source": [
    "api = KaggleApi()\n",
    "api.authenticate()\n",
    "api.dataset_download_files(\"carrie1/ecommerce-data\", path='C:\\\\Users\\\\ЯцкийНА\\\\Portfolio\\\\RFM_Segmentation\\\\Data', unzip=True)"
   ]
  },
  {
   "cell_type": "code",
   "execution_count": 5,
   "id": "8a797b35",
   "metadata": {},
   "outputs": [],
   "source": [
    "df = pd.read_csv('Data\\\\data.csv', encoding='ISO-8859-1')"
   ]
  },
  {
   "cell_type": "markdown",
   "id": "10eb4564",
   "metadata": {},
   "source": [
    "# 3. Описание датасета"
   ]
  },
  {
   "cell_type": "markdown",
   "id": "991305b0",
   "metadata": {},
   "source": [
    "\"Обычно наборы данных электронной коммерции являются закрытыми, и поэтому их трудно найти среди общедоступных данных. Однако репозиторий машинного обучения UCI создал этот набор данных, содержащий фактические транзакции за 2010 и 2011 годы. Набор данных поддерживается на их сайте, где его можно найти по заголовку «Розничная торговля в Интернете.\n",
    "\n",
    "Это транснациональный набор данных, который содержит все транзакции, имевшие место между 12.01.2010 и 12.09.2011 для зарегистрированной в Британии розничной онлайн-торговли. Компания в основном продает уникальные подарки на все случаи жизни. Многие клиенты компании являются оптовиками\" - описание с Kaggle \n",
    "\n",
    "В датасете содержится 541909 строк и 8 столбцов.\n",
    "\n",
    "На Kaggle не было описание признаков, предположим:\n",
    "\n",
    "- **InvoiceNo**: Номер счета. Номер содержит 6 знаков, присваивается каждой транзакции. Если код начинается с буквы \"С\", это указывает на отмену или возврат, при этом в графе Quantity указывается число со знаком минус. \n",
    "- **StockCode**: Код товара. Код уникален для каждого товара.\n",
    "- **Description**: Наименование товара.\n",
    "- **Quantity**: Количество каждого товара в транзакции.\n",
    "- **InvoiceDate**: Дата и время выставления счета.\n",
    "- **UnitPrice**: Цена за единицу товара.\n",
    "- **CustomerID**: Идентификационный номер покупателя. Присваивается каждому покупателю.\n",
    "- **Country**: Название страны, в которой проживает покупатель.\n",
    "\n",
    "**Ключевые признаки для RFM-анализа**:\n",
    "- CustomerID\n",
    "- Quantity и UnitPrice (далее сделаем рассчет в отдельной колонке по общей сумме по каждой позиции)\n",
    "- InvoiceDate"
   ]
  },
  {
   "cell_type": "code",
   "execution_count": 6,
   "id": "fe6742fe",
   "metadata": {},
   "outputs": [
    {
     "data": {
      "text/html": [
       "<div>\n",
       "<style scoped>\n",
       "    .dataframe tbody tr th:only-of-type {\n",
       "        vertical-align: middle;\n",
       "    }\n",
       "\n",
       "    .dataframe tbody tr th {\n",
       "        vertical-align: top;\n",
       "    }\n",
       "\n",
       "    .dataframe thead th {\n",
       "        text-align: right;\n",
       "    }\n",
       "</style>\n",
       "<table border=\"1\" class=\"dataframe\">\n",
       "  <thead>\n",
       "    <tr style=\"text-align: right;\">\n",
       "      <th></th>\n",
       "      <th>InvoiceNo</th>\n",
       "      <th>StockCode</th>\n",
       "      <th>Description</th>\n",
       "      <th>Quantity</th>\n",
       "      <th>InvoiceDate</th>\n",
       "      <th>UnitPrice</th>\n",
       "      <th>CustomerID</th>\n",
       "      <th>Country</th>\n",
       "    </tr>\n",
       "  </thead>\n",
       "  <tbody>\n",
       "    <tr>\n",
       "      <th>0</th>\n",
       "      <td>536365</td>\n",
       "      <td>85123A</td>\n",
       "      <td>WHITE HANGING HEART T-LIGHT HOLDER</td>\n",
       "      <td>6</td>\n",
       "      <td>12/1/2010 8:26</td>\n",
       "      <td>2.55</td>\n",
       "      <td>17850.0</td>\n",
       "      <td>United Kingdom</td>\n",
       "    </tr>\n",
       "    <tr>\n",
       "      <th>1</th>\n",
       "      <td>536365</td>\n",
       "      <td>71053</td>\n",
       "      <td>WHITE METAL LANTERN</td>\n",
       "      <td>6</td>\n",
       "      <td>12/1/2010 8:26</td>\n",
       "      <td>3.39</td>\n",
       "      <td>17850.0</td>\n",
       "      <td>United Kingdom</td>\n",
       "    </tr>\n",
       "    <tr>\n",
       "      <th>2</th>\n",
       "      <td>536365</td>\n",
       "      <td>84406B</td>\n",
       "      <td>CREAM CUPID HEARTS COAT HANGER</td>\n",
       "      <td>8</td>\n",
       "      <td>12/1/2010 8:26</td>\n",
       "      <td>2.75</td>\n",
       "      <td>17850.0</td>\n",
       "      <td>United Kingdom</td>\n",
       "    </tr>\n",
       "    <tr>\n",
       "      <th>3</th>\n",
       "      <td>536365</td>\n",
       "      <td>84029G</td>\n",
       "      <td>KNITTED UNION FLAG HOT WATER BOTTLE</td>\n",
       "      <td>6</td>\n",
       "      <td>12/1/2010 8:26</td>\n",
       "      <td>3.39</td>\n",
       "      <td>17850.0</td>\n",
       "      <td>United Kingdom</td>\n",
       "    </tr>\n",
       "    <tr>\n",
       "      <th>4</th>\n",
       "      <td>536365</td>\n",
       "      <td>84029E</td>\n",
       "      <td>RED WOOLLY HOTTIE WHITE HEART.</td>\n",
       "      <td>6</td>\n",
       "      <td>12/1/2010 8:26</td>\n",
       "      <td>3.39</td>\n",
       "      <td>17850.0</td>\n",
       "      <td>United Kingdom</td>\n",
       "    </tr>\n",
       "    <tr>\n",
       "      <th>...</th>\n",
       "      <td>...</td>\n",
       "      <td>...</td>\n",
       "      <td>...</td>\n",
       "      <td>...</td>\n",
       "      <td>...</td>\n",
       "      <td>...</td>\n",
       "      <td>...</td>\n",
       "      <td>...</td>\n",
       "    </tr>\n",
       "    <tr>\n",
       "      <th>541904</th>\n",
       "      <td>581587</td>\n",
       "      <td>22613</td>\n",
       "      <td>PACK OF 20 SPACEBOY NAPKINS</td>\n",
       "      <td>12</td>\n",
       "      <td>12/9/2011 12:50</td>\n",
       "      <td>0.85</td>\n",
       "      <td>12680.0</td>\n",
       "      <td>France</td>\n",
       "    </tr>\n",
       "    <tr>\n",
       "      <th>541905</th>\n",
       "      <td>581587</td>\n",
       "      <td>22899</td>\n",
       "      <td>CHILDREN'S APRON DOLLY GIRL</td>\n",
       "      <td>6</td>\n",
       "      <td>12/9/2011 12:50</td>\n",
       "      <td>2.10</td>\n",
       "      <td>12680.0</td>\n",
       "      <td>France</td>\n",
       "    </tr>\n",
       "    <tr>\n",
       "      <th>541906</th>\n",
       "      <td>581587</td>\n",
       "      <td>23254</td>\n",
       "      <td>CHILDRENS CUTLERY DOLLY GIRL</td>\n",
       "      <td>4</td>\n",
       "      <td>12/9/2011 12:50</td>\n",
       "      <td>4.15</td>\n",
       "      <td>12680.0</td>\n",
       "      <td>France</td>\n",
       "    </tr>\n",
       "    <tr>\n",
       "      <th>541907</th>\n",
       "      <td>581587</td>\n",
       "      <td>23255</td>\n",
       "      <td>CHILDRENS CUTLERY CIRCUS PARADE</td>\n",
       "      <td>4</td>\n",
       "      <td>12/9/2011 12:50</td>\n",
       "      <td>4.15</td>\n",
       "      <td>12680.0</td>\n",
       "      <td>France</td>\n",
       "    </tr>\n",
       "    <tr>\n",
       "      <th>541908</th>\n",
       "      <td>581587</td>\n",
       "      <td>22138</td>\n",
       "      <td>BAKING SET 9 PIECE RETROSPOT</td>\n",
       "      <td>3</td>\n",
       "      <td>12/9/2011 12:50</td>\n",
       "      <td>4.95</td>\n",
       "      <td>12680.0</td>\n",
       "      <td>France</td>\n",
       "    </tr>\n",
       "  </tbody>\n",
       "</table>\n",
       "<p>541909 rows × 8 columns</p>\n",
       "</div>"
      ],
      "text/plain": [
       "       InvoiceNo StockCode                          Description  Quantity  \\\n",
       "0         536365    85123A   WHITE HANGING HEART T-LIGHT HOLDER         6   \n",
       "1         536365     71053                  WHITE METAL LANTERN         6   \n",
       "2         536365    84406B       CREAM CUPID HEARTS COAT HANGER         8   \n",
       "3         536365    84029G  KNITTED UNION FLAG HOT WATER BOTTLE         6   \n",
       "4         536365    84029E       RED WOOLLY HOTTIE WHITE HEART.         6   \n",
       "...          ...       ...                                  ...       ...   \n",
       "541904    581587     22613          PACK OF 20 SPACEBOY NAPKINS        12   \n",
       "541905    581587     22899         CHILDREN'S APRON DOLLY GIRL          6   \n",
       "541906    581587     23254        CHILDRENS CUTLERY DOLLY GIRL          4   \n",
       "541907    581587     23255      CHILDRENS CUTLERY CIRCUS PARADE         4   \n",
       "541908    581587     22138        BAKING SET 9 PIECE RETROSPOT          3   \n",
       "\n",
       "            InvoiceDate  UnitPrice  CustomerID         Country  \n",
       "0        12/1/2010 8:26       2.55     17850.0  United Kingdom  \n",
       "1        12/1/2010 8:26       3.39     17850.0  United Kingdom  \n",
       "2        12/1/2010 8:26       2.75     17850.0  United Kingdom  \n",
       "3        12/1/2010 8:26       3.39     17850.0  United Kingdom  \n",
       "4        12/1/2010 8:26       3.39     17850.0  United Kingdom  \n",
       "...                 ...        ...         ...             ...  \n",
       "541904  12/9/2011 12:50       0.85     12680.0          France  \n",
       "541905  12/9/2011 12:50       2.10     12680.0          France  \n",
       "541906  12/9/2011 12:50       4.15     12680.0          France  \n",
       "541907  12/9/2011 12:50       4.15     12680.0          France  \n",
       "541908  12/9/2011 12:50       4.95     12680.0          France  \n",
       "\n",
       "[541909 rows x 8 columns]"
      ]
     },
     "execution_count": 6,
     "metadata": {},
     "output_type": "execute_result"
    }
   ],
   "source": [
    "df"
   ]
  },
  {
   "cell_type": "markdown",
   "id": "79d8b0d2",
   "metadata": {},
   "source": [
    "# 4. Подготовка данных"
   ]
  },
  {
   "cell_type": "markdown",
   "id": "011a03a2",
   "metadata": {},
   "source": [
    "## 4.1 Ключевые признаки для RFM-анализа"
   ]
  },
  {
   "cell_type": "markdown",
   "id": "82fbf484",
   "metadata": {},
   "source": [
    "Оставим в датасете только ключевые признаки для RFM-анализа"
   ]
  },
  {
   "cell_type": "code",
   "execution_count": 7,
   "id": "52ad10af",
   "metadata": {},
   "outputs": [
    {
     "data": {
      "text/html": [
       "<div>\n",
       "<style scoped>\n",
       "    .dataframe tbody tr th:only-of-type {\n",
       "        vertical-align: middle;\n",
       "    }\n",
       "\n",
       "    .dataframe tbody tr th {\n",
       "        vertical-align: top;\n",
       "    }\n",
       "\n",
       "    .dataframe thead th {\n",
       "        text-align: right;\n",
       "    }\n",
       "</style>\n",
       "<table border=\"1\" class=\"dataframe\">\n",
       "  <thead>\n",
       "    <tr style=\"text-align: right;\">\n",
       "      <th></th>\n",
       "      <th>CustomerID</th>\n",
       "      <th>InvoiceDate</th>\n",
       "      <th>Quantity</th>\n",
       "      <th>UnitPrice</th>\n",
       "    </tr>\n",
       "  </thead>\n",
       "  <tbody>\n",
       "    <tr>\n",
       "      <th>0</th>\n",
       "      <td>17850.0</td>\n",
       "      <td>12/1/2010 8:26</td>\n",
       "      <td>6</td>\n",
       "      <td>2.55</td>\n",
       "    </tr>\n",
       "    <tr>\n",
       "      <th>1</th>\n",
       "      <td>17850.0</td>\n",
       "      <td>12/1/2010 8:26</td>\n",
       "      <td>6</td>\n",
       "      <td>3.39</td>\n",
       "    </tr>\n",
       "    <tr>\n",
       "      <th>2</th>\n",
       "      <td>17850.0</td>\n",
       "      <td>12/1/2010 8:26</td>\n",
       "      <td>8</td>\n",
       "      <td>2.75</td>\n",
       "    </tr>\n",
       "    <tr>\n",
       "      <th>3</th>\n",
       "      <td>17850.0</td>\n",
       "      <td>12/1/2010 8:26</td>\n",
       "      <td>6</td>\n",
       "      <td>3.39</td>\n",
       "    </tr>\n",
       "    <tr>\n",
       "      <th>4</th>\n",
       "      <td>17850.0</td>\n",
       "      <td>12/1/2010 8:26</td>\n",
       "      <td>6</td>\n",
       "      <td>3.39</td>\n",
       "    </tr>\n",
       "  </tbody>\n",
       "</table>\n",
       "</div>"
      ],
      "text/plain": [
       "   CustomerID     InvoiceDate  Quantity  UnitPrice\n",
       "0     17850.0  12/1/2010 8:26         6       2.55\n",
       "1     17850.0  12/1/2010 8:26         6       3.39\n",
       "2     17850.0  12/1/2010 8:26         8       2.75\n",
       "3     17850.0  12/1/2010 8:26         6       3.39\n",
       "4     17850.0  12/1/2010 8:26         6       3.39"
      ]
     },
     "execution_count": 7,
     "metadata": {},
     "output_type": "execute_result"
    }
   ],
   "source": [
    "rfm_df = df[['CustomerID', 'InvoiceDate', 'Quantity', 'UnitPrice']]\n",
    "\n",
    "rfm_df.head()"
   ]
  },
  {
   "cell_type": "markdown",
   "id": "6caf180b",
   "metadata": {},
   "source": [
    "## 4.2 Пропущенные значения"
   ]
  },
  {
   "cell_type": "markdown",
   "id": "31edc3ff",
   "metadata": {},
   "source": [
    "Исследуем пропущенные значения"
   ]
  },
  {
   "cell_type": "code",
   "execution_count": 8,
   "id": "f0e7808e",
   "metadata": {},
   "outputs": [
    {
     "data": {
      "text/plain": [
       "<AxesSubplot:>"
      ]
     },
     "execution_count": 8,
     "metadata": {},
     "output_type": "execute_result"
    },
    {
     "data": {
      "image/png": "[encoded data removed]",
      "text/plain": [
       "<Figure size 1800x720 with 3 Axes>"
      ]
     },
     "metadata": {
      "needs_background": "light"
     },
     "output_type": "display_data"
    }
   ],
   "source": [
    "msno.bar(rfm_df)"
   ]
  },
  {
   "cell_type": "code",
   "execution_count": 9,
   "id": "f177d5b2",
   "metadata": {},
   "outputs": [
    {
     "data": {
      "text/plain": [
       "<AxesSubplot:>"
      ]
     },
     "execution_count": 9,
     "metadata": {},
     "output_type": "execute_result"
    },
    {
     "data": {
      "image/png": "[encoded data removed]",
      "text/plain": [
       "<Figure size 1800x720 with 2 Axes>"
      ]
     },
     "metadata": {
      "needs_background": "light"
     },
     "output_type": "display_data"
    }
   ],
   "source": [
    "msno.matrix(rfm_df)"
   ]
  },
  {
   "cell_type": "markdown",
   "id": "a92b5aa1",
   "metadata": {},
   "source": [
    "<div class=\"alert alert-block alert-info\">\n",
    "<b>Вывод:</b> Как мы можем увидеть, колосальное количество пропущенных значений в <b>CustomerID</b>, пропуски рапределены по всему датасету. \n",
    "\n",
    "Данный признак номинальный и является ключевым. Заполнить его случайными значениниями, или модальным значением мы не можем. Также мы не можем по другим признакам в датасете идентифицировать покупателя. Нам критически важно знать, кто явялется прокупателем, для дальнейшей работы с ним, иначе RFM-анализ становится бессмысленным. \n",
    "\n",
    "Данные пропуски придется отбросить.\n",
    "</div>\n",
    "\n",
    "\n",
    "\n"
   ]
  },
  {
   "cell_type": "markdown",
   "id": "d7f18cc2",
   "metadata": {},
   "source": [
    "**Отбрасываем пропущенные значения в CustomerID**"
   ]
  },
  {
   "cell_type": "code",
   "execution_count": 10,
   "id": "fcfb1f6a",
   "metadata": {},
   "outputs": [],
   "source": [
    "rfm_df.dropna(inplace = True)"
   ]
  },
  {
   "cell_type": "markdown",
   "id": "b33f96a9",
   "metadata": {},
   "source": [
    "## 4.3 Типы признаков"
   ]
  },
  {
   "cell_type": "markdown",
   "id": "c35e1fcb",
   "metadata": {},
   "source": [
    "Изучим типы признаков"
   ]
  },
  {
   "cell_type": "code",
   "execution_count": 11,
   "id": "d7034243",
   "metadata": {},
   "outputs": [
    {
     "name": "stdout",
     "output_type": "stream",
     "text": [
      "<class 'pandas.core.frame.DataFrame'>\n",
      "Int64Index: 406829 entries, 0 to 541908\n",
      "Data columns (total 4 columns):\n",
      " #   Column       Non-Null Count   Dtype  \n",
      "---  ------       --------------   -----  \n",
      " 0   CustomerID   406829 non-null  float64\n",
      " 1   InvoiceDate  406829 non-null  object \n",
      " 2   Quantity     406829 non-null  int64  \n",
      " 3   UnitPrice    406829 non-null  float64\n",
      "dtypes: float64(2), int64(1), object(1)\n",
      "memory usage: 15.5+ MB\n"
     ]
    }
   ],
   "source": [
    "rfm_df.info()"
   ]
  },
  {
   "cell_type": "markdown",
   "id": "50f17919",
   "metadata": {},
   "source": [
    "<div class=\"alert alert-block alert-info\">\n",
    "<b>Вывод:</b> <b>CustomerID</b> желательно поменять тип на int\n",
    "\n",
    "<b>InvoiceDate</b> необходимо задать тип <b>datetime</b> и вытащить только дату. Так как в датасете данные были сгенерированы за 2010 и 2011 года, то для удобства можно приблизить дату к 2022 году. В любом случае это искуственные данные.\n",
    "\n",
    "</div>"
   ]
  },
  {
   "cell_type": "markdown",
   "id": "5d78975d",
   "metadata": {},
   "source": [
    "**Зададим корректные типы данных и приблизим даты к 2022 году**"
   ]
  },
  {
   "cell_type": "code",
   "execution_count": 12,
   "id": "66e9ef58",
   "metadata": {},
   "outputs": [],
   "source": [
    "rfm_df['CustomerID'] = rfm_df['CustomerID'].astype(int)\n",
    "\n",
    "rfm_df['InvoiceDate'] = pd.to_datetime(rfm_df['InvoiceDate']).dt.date\n",
    "\n",
    "#Приближаем данные к 2022 году\n",
    "rfm_df['InvoiceDate'] = rfm_df['InvoiceDate']\\\n",
    "                        .apply(lambda x: x + relativedelta(years=(datetime.datetime.now().year - 2011 - 1)))\n",
    "\n"
   ]
  },
  {
   "cell_type": "code",
   "execution_count": 13,
   "id": "b51ea4d8",
   "metadata": {},
   "outputs": [
    {
     "name": "stdout",
     "output_type": "stream",
     "text": [
      "<class 'pandas.core.frame.DataFrame'>\n",
      "Int64Index: 406829 entries, 0 to 541908\n",
      "Data columns (total 4 columns):\n",
      " #   Column       Non-Null Count   Dtype  \n",
      "---  ------       --------------   -----  \n",
      " 0   CustomerID   406829 non-null  int32  \n",
      " 1   InvoiceDate  406829 non-null  object \n",
      " 2   Quantity     406829 non-null  int64  \n",
      " 3   UnitPrice    406829 non-null  float64\n",
      "dtypes: float64(1), int32(1), int64(1), object(1)\n",
      "memory usage: 14.0+ MB\n"
     ]
    }
   ],
   "source": [
    "rfm_df.info()"
   ]
  },
  {
   "cell_type": "markdown",
   "id": "d2ee86d7",
   "metadata": {},
   "source": [
    "## 4.4 Добавление столбцы с общей суммой"
   ]
  },
  {
   "cell_type": "markdown",
   "id": "2f599c60",
   "metadata": {},
   "source": [
    "Добавим необходимый столбец с общей суммой"
   ]
  },
  {
   "cell_type": "code",
   "execution_count": 14,
   "id": "a76ca6e5",
   "metadata": {},
   "outputs": [
    {
     "data": {
      "text/html": [
       "<div>\n",
       "<style scoped>\n",
       "    .dataframe tbody tr th:only-of-type {\n",
       "        vertical-align: middle;\n",
       "    }\n",
       "\n",
       "    .dataframe tbody tr th {\n",
       "        vertical-align: top;\n",
       "    }\n",
       "\n",
       "    .dataframe thead th {\n",
       "        text-align: right;\n",
       "    }\n",
       "</style>\n",
       "<table border=\"1\" class=\"dataframe\">\n",
       "  <thead>\n",
       "    <tr style=\"text-align: right;\">\n",
       "      <th></th>\n",
       "      <th>CustomerID</th>\n",
       "      <th>InvoiceDate</th>\n",
       "      <th>Quantity</th>\n",
       "      <th>UnitPrice</th>\n",
       "      <th>Sum</th>\n",
       "    </tr>\n",
       "  </thead>\n",
       "  <tbody>\n",
       "    <tr>\n",
       "      <th>0</th>\n",
       "      <td>17850</td>\n",
       "      <td>2020-12-01</td>\n",
       "      <td>6</td>\n",
       "      <td>2.55</td>\n",
       "      <td>15.30</td>\n",
       "    </tr>\n",
       "    <tr>\n",
       "      <th>1</th>\n",
       "      <td>17850</td>\n",
       "      <td>2020-12-01</td>\n",
       "      <td>6</td>\n",
       "      <td>3.39</td>\n",
       "      <td>20.34</td>\n",
       "    </tr>\n",
       "    <tr>\n",
       "      <th>2</th>\n",
       "      <td>17850</td>\n",
       "      <td>2020-12-01</td>\n",
       "      <td>8</td>\n",
       "      <td>2.75</td>\n",
       "      <td>22.00</td>\n",
       "    </tr>\n",
       "    <tr>\n",
       "      <th>3</th>\n",
       "      <td>17850</td>\n",
       "      <td>2020-12-01</td>\n",
       "      <td>6</td>\n",
       "      <td>3.39</td>\n",
       "      <td>20.34</td>\n",
       "    </tr>\n",
       "    <tr>\n",
       "      <th>4</th>\n",
       "      <td>17850</td>\n",
       "      <td>2020-12-01</td>\n",
       "      <td>6</td>\n",
       "      <td>3.39</td>\n",
       "      <td>20.34</td>\n",
       "    </tr>\n",
       "  </tbody>\n",
       "</table>\n",
       "</div>"
      ],
      "text/plain": [
       "   CustomerID InvoiceDate  Quantity  UnitPrice    Sum\n",
       "0       17850  2020-12-01         6       2.55  15.30\n",
       "1       17850  2020-12-01         6       3.39  20.34\n",
       "2       17850  2020-12-01         8       2.75  22.00\n",
       "3       17850  2020-12-01         6       3.39  20.34\n",
       "4       17850  2020-12-01         6       3.39  20.34"
      ]
     },
     "execution_count": 14,
     "metadata": {},
     "output_type": "execute_result"
    }
   ],
   "source": [
    "rfm_df['Sum'] = rfm_df['Quantity'] * rfm_df['UnitPrice']\n",
    "\n",
    "rfm_df.head()"
   ]
  },
  {
   "cell_type": "markdown",
   "id": "24b3cad2",
   "metadata": {},
   "source": [
    "# 5. RFM-анализ"
   ]
  },
  {
   "cell_type": "markdown",
   "id": "0f98f123",
   "metadata": {},
   "source": [
    "## 5.1 R (Recency)"
   ]
  },
  {
   "cell_type": "markdown",
   "id": "b4fa7645",
   "metadata": {},
   "source": [
    "Рассчитаем дату последнего заказа (Last_invoice_date) и сколько времени прошло с последнего заказа до отчетной даты (Delta_date)"
   ]
  },
  {
   "cell_type": "code",
   "execution_count": 15,
   "id": "5f9b7d2e",
   "metadata": {},
   "outputs": [
    {
     "data": {
      "text/html": [
       "<div>\n",
       "<style scoped>\n",
       "    .dataframe tbody tr th:only-of-type {\n",
       "        vertical-align: middle;\n",
       "    }\n",
       "\n",
       "    .dataframe tbody tr th {\n",
       "        vertical-align: top;\n",
       "    }\n",
       "\n",
       "    .dataframe thead th {\n",
       "        text-align: right;\n",
       "    }\n",
       "</style>\n",
       "<table border=\"1\" class=\"dataframe\">\n",
       "  <thead>\n",
       "    <tr style=\"text-align: right;\">\n",
       "      <th></th>\n",
       "      <th>CustomerID</th>\n",
       "      <th>Last_invoice_date</th>\n",
       "      <th>Delta_date</th>\n",
       "    </tr>\n",
       "  </thead>\n",
       "  <tbody>\n",
       "    <tr>\n",
       "      <th>0</th>\n",
       "      <td>12346</td>\n",
       "      <td>2021-01-18</td>\n",
       "      <td>347 days</td>\n",
       "    </tr>\n",
       "    <tr>\n",
       "      <th>1</th>\n",
       "      <td>12347</td>\n",
       "      <td>2021-12-07</td>\n",
       "      <td>24 days</td>\n",
       "    </tr>\n",
       "    <tr>\n",
       "      <th>2</th>\n",
       "      <td>12348</td>\n",
       "      <td>2021-09-25</td>\n",
       "      <td>97 days</td>\n",
       "    </tr>\n",
       "    <tr>\n",
       "      <th>3</th>\n",
       "      <td>12349</td>\n",
       "      <td>2021-11-21</td>\n",
       "      <td>40 days</td>\n",
       "    </tr>\n",
       "    <tr>\n",
       "      <th>4</th>\n",
       "      <td>12350</td>\n",
       "      <td>2021-02-02</td>\n",
       "      <td>332 days</td>\n",
       "    </tr>\n",
       "  </tbody>\n",
       "</table>\n",
       "</div>"
      ],
      "text/plain": [
       "   CustomerID Last_invoice_date Delta_date\n",
       "0       12346        2021-01-18   347 days\n",
       "1       12347        2021-12-07    24 days\n",
       "2       12348        2021-09-25    97 days\n",
       "3       12349        2021-11-21    40 days\n",
       "4       12350        2021-02-02   332 days"
      ]
     },
     "execution_count": 15,
     "metadata": {},
     "output_type": "execute_result"
    }
   ],
   "source": [
    "#Возьмем отчетную дату анализа 31 декабря 2021 года\n",
    "\n",
    "current_date = datetime.date(2021,12,31)\n",
    "\n",
    "last_date_df = rfm_df\\\n",
    "               .sort_values('InvoiceDate')\\\n",
    "               .groupby('CustomerID')['InvoiceDate']\\\n",
    "               .last()\\\n",
    "               .reset_index()\\\n",
    "               .rename(columns={'InvoiceDate':'Last_invoice_date'})\\\n",
    "               .assign(Current_date=current_date, Delta_date=lambda df: df['Current_date'] - df['Last_invoice_date'])\\\n",
    "               .drop(columns='Current_date')\n",
    "\n",
    "\n",
    "last_date_df.head()"
   ]
  },
  {
   "cell_type": "code",
   "execution_count": 16,
   "id": "13a80612",
   "metadata": {},
   "outputs": [
    {
     "data": {
      "text/plain": [
       "count                           4372\n",
       "mean     113 days 13:56:55.553522416\n",
       "std      100 days 18:31:52.836716494\n",
       "min                 22 days 00:00:00\n",
       "25%                 38 days 00:00:00\n",
       "50%                 72 days 00:00:00\n",
       "75%                165 days 00:00:00\n",
       "max                395 days 00:00:00\n",
       "Name: Delta_date, dtype: object"
      ]
     },
     "execution_count": 16,
     "metadata": {},
     "output_type": "execute_result"
    }
   ],
   "source": [
    "last_date_df['Delta_date'].describe()"
   ]
  },
  {
   "cell_type": "markdown",
   "id": "cd45c7fc",
   "metadata": {},
   "source": [
    "<div class=\"alert alert-block alert-info\">\n",
    "<b>Вывод:</b> 50% клиентов делали последний заказ в промежутке между 72 и 395 днями назад.\n",
    "</div>"
   ]
  },
  {
   "cell_type": "markdown",
   "id": "ab2b3abb",
   "metadata": {},
   "source": [
    "## 5.2 F (Frequency)"
   ]
  },
  {
   "cell_type": "markdown",
   "id": "95fd8c9b",
   "metadata": {},
   "source": [
    "Рассчитаем частоту заказов клиента "
   ]
  },
  {
   "cell_type": "code",
   "execution_count": 17,
   "id": "4d6b506d",
   "metadata": {},
   "outputs": [],
   "source": [
    "#Функция для отрисовки распределения \n",
    "def plot(x, title):\n",
    "    fig, ax = plt.subplots(figsize=(10,6))\n",
    "    sns.histplot(x=x, kde=True)\n",
    "    fig.suptitle(title, fontsize=16)\n",
    "    plt.show()"
   ]
  },
  {
   "cell_type": "code",
   "execution_count": 18,
   "id": "a80e215a",
   "metadata": {},
   "outputs": [
    {
     "data": {
      "text/html": [
       "<div>\n",
       "<style scoped>\n",
       "    .dataframe tbody tr th:only-of-type {\n",
       "        vertical-align: middle;\n",
       "    }\n",
       "\n",
       "    .dataframe tbody tr th {\n",
       "        vertical-align: top;\n",
       "    }\n",
       "\n",
       "    .dataframe thead th {\n",
       "        text-align: right;\n",
       "    }\n",
       "</style>\n",
       "<table border=\"1\" class=\"dataframe\">\n",
       "  <thead>\n",
       "    <tr style=\"text-align: right;\">\n",
       "      <th></th>\n",
       "      <th>CustomerID</th>\n",
       "      <th>Frequency</th>\n",
       "    </tr>\n",
       "  </thead>\n",
       "  <tbody>\n",
       "    <tr>\n",
       "      <th>0</th>\n",
       "      <td>17841</td>\n",
       "      <td>7983</td>\n",
       "    </tr>\n",
       "    <tr>\n",
       "      <th>1</th>\n",
       "      <td>14911</td>\n",
       "      <td>5903</td>\n",
       "    </tr>\n",
       "    <tr>\n",
       "      <th>2</th>\n",
       "      <td>14096</td>\n",
       "      <td>5128</td>\n",
       "    </tr>\n",
       "    <tr>\n",
       "      <th>3</th>\n",
       "      <td>12748</td>\n",
       "      <td>4642</td>\n",
       "    </tr>\n",
       "    <tr>\n",
       "      <th>4</th>\n",
       "      <td>14606</td>\n",
       "      <td>2782</td>\n",
       "    </tr>\n",
       "  </tbody>\n",
       "</table>\n",
       "</div>"
      ],
      "text/plain": [
       "   CustomerID  Frequency\n",
       "0       17841       7983\n",
       "1       14911       5903\n",
       "2       14096       5128\n",
       "3       12748       4642\n",
       "4       14606       2782"
      ]
     },
     "execution_count": 18,
     "metadata": {},
     "output_type": "execute_result"
    }
   ],
   "source": [
    "#Считаем количество покупок каждого клиента\n",
    "freq = rfm_df['CustomerID'].value_counts()\n",
    "\n",
    "freq_df = pd.DataFrame({'CustomerID':freq.index, 'Frequency':freq.values})\n",
    "\n",
    "freq_df.head()"
   ]
  },
  {
   "cell_type": "code",
   "execution_count": 19,
   "id": "46cc7ed1",
   "metadata": {},
   "outputs": [
    {
     "data": {
      "image/png": "[encoded data removed]",
      "text/plain": [
       "<Figure size 720x432 with 1 Axes>"
      ]
     },
     "metadata": {
      "needs_background": "light"
     },
     "output_type": "display_data"
    }
   ],
   "source": [
    "plot(freq_df['Frequency'], 'Распределение частоты заказов клиентов')"
   ]
  },
  {
   "cell_type": "code",
   "execution_count": 20,
   "id": "f079d689",
   "metadata": {},
   "outputs": [
    {
     "data": {
      "text/plain": [
       "count    4372.000000\n",
       "mean       93.053294\n",
       "std       232.471608\n",
       "min         1.000000\n",
       "20%        14.000000\n",
       "30%        21.000000\n",
       "40%        29.000000\n",
       "50%        42.000000\n",
       "60%        58.000000\n",
       "70%        85.000000\n",
       "80%       124.000000\n",
       "90%       212.000000\n",
       "99%       671.870000\n",
       "max      7983.000000\n",
       "Name: Frequency, dtype: float64"
      ]
     },
     "execution_count": 20,
     "metadata": {},
     "output_type": "execute_result"
    }
   ],
   "source": [
    "#Изучаем однородность данных\n",
    "\n",
    "percentiles = np.append(np.linspace(0.2, 0.8, num=7), [0.9, 0.99])\n",
    "\n",
    "freq_df['Frequency'].describe(percentiles = percentiles)\n"
   ]
  },
  {
   "cell_type": "markdown",
   "id": "509289d6",
   "metadata": {},
   "source": [
    "<div class=\"alert alert-block alert-info\">\n",
    "<b>Вывод:</b> Видна огромная разница между максимальным количеством заказов покупателя и 99% другими покупателями. Вполне вероятно, что следует выделить в отдельный RFM сегмент покупателей, которые совершили от 672 до 7983 покупок. Узнаем ID таких клиентов и посчитаем их количество.\n",
    "</div>"
   ]
  },
  {
   "cell_type": "code",
   "execution_count": 21,
   "id": "d5107e91",
   "metadata": {},
   "outputs": [
    {
     "data": {
      "text/html": [
       "<div>\n",
       "<style scoped>\n",
       "    .dataframe tbody tr th:only-of-type {\n",
       "        vertical-align: middle;\n",
       "    }\n",
       "\n",
       "    .dataframe tbody tr th {\n",
       "        vertical-align: top;\n",
       "    }\n",
       "\n",
       "    .dataframe thead th {\n",
       "        text-align: right;\n",
       "    }\n",
       "</style>\n",
       "<table border=\"1\" class=\"dataframe\">\n",
       "  <thead>\n",
       "    <tr style=\"text-align: right;\">\n",
       "      <th></th>\n",
       "      <th>CustomerID</th>\n",
       "      <th>Frequency</th>\n",
       "    </tr>\n",
       "  </thead>\n",
       "  <tbody>\n",
       "    <tr>\n",
       "      <th>0</th>\n",
       "      <td>17841</td>\n",
       "      <td>7983</td>\n",
       "    </tr>\n",
       "    <tr>\n",
       "      <th>1</th>\n",
       "      <td>14911</td>\n",
       "      <td>5903</td>\n",
       "    </tr>\n",
       "    <tr>\n",
       "      <th>2</th>\n",
       "      <td>14096</td>\n",
       "      <td>5128</td>\n",
       "    </tr>\n",
       "    <tr>\n",
       "      <th>3</th>\n",
       "      <td>12748</td>\n",
       "      <td>4642</td>\n",
       "    </tr>\n",
       "    <tr>\n",
       "      <th>4</th>\n",
       "      <td>14606</td>\n",
       "      <td>2782</td>\n",
       "    </tr>\n",
       "  </tbody>\n",
       "</table>\n",
       "</div>"
      ],
      "text/plain": [
       "   CustomerID  Frequency\n",
       "0       17841       7983\n",
       "1       14911       5903\n",
       "2       14096       5128\n",
       "3       12748       4642\n",
       "4       14606       2782"
      ]
     },
     "execution_count": 21,
     "metadata": {},
     "output_type": "execute_result"
    }
   ],
   "source": [
    "#Фильтруем клиентов с наибольшим количестом заказов\n",
    "\n",
    "most_freq_df = freq_df[freq_df['Frequency']>672]\n",
    "\n",
    "most_freq_df.head()"
   ]
  },
  {
   "cell_type": "code",
   "execution_count": 22,
   "id": "fc61e311",
   "metadata": {},
   "outputs": [
    {
     "name": "stdout",
     "output_type": "stream",
     "text": [
      "Количество покупателей с наибольшим количеством заказов - 44\n"
     ]
    }
   ],
   "source": [
    "print(f'Количество покупателей с наибольшим количеством заказов - {most_freq_df.shape[0]}')"
   ]
  },
  {
   "cell_type": "code",
   "execution_count": 23,
   "id": "81370768",
   "metadata": {},
   "outputs": [],
   "source": [
    "# Можно выгрузить в Excel для дальнейшей работы\n",
    "\n",
    "most_freq_df.to_excel('Top frequency client.xlsx')"
   ]
  },
  {
   "cell_type": "markdown",
   "id": "b1e930fc",
   "metadata": {},
   "source": [
    "## 5.3 M (Monetary)"
   ]
  },
  {
   "cell_type": "markdown",
   "id": "1ac9326b",
   "metadata": {},
   "source": [
    "Рассчитываем общую сумму заказов каждого клиента (LTV по общему доходу)"
   ]
  },
  {
   "cell_type": "code",
   "execution_count": 24,
   "id": "3b3d56bc",
   "metadata": {},
   "outputs": [
    {
     "data": {
      "text/html": [
       "<div>\n",
       "<style scoped>\n",
       "    .dataframe tbody tr th:only-of-type {\n",
       "        vertical-align: middle;\n",
       "    }\n",
       "\n",
       "    .dataframe tbody tr th {\n",
       "        vertical-align: top;\n",
       "    }\n",
       "\n",
       "    .dataframe thead th {\n",
       "        text-align: right;\n",
       "    }\n",
       "</style>\n",
       "<table border=\"1\" class=\"dataframe\">\n",
       "  <thead>\n",
       "    <tr style=\"text-align: right;\">\n",
       "      <th></th>\n",
       "      <th>CustomerID</th>\n",
       "      <th>Total_quantity</th>\n",
       "      <th>Total_sum</th>\n",
       "    </tr>\n",
       "  </thead>\n",
       "  <tbody>\n",
       "    <tr>\n",
       "      <th>0</th>\n",
       "      <td>14646</td>\n",
       "      <td>196719</td>\n",
       "      <td>279489.02</td>\n",
       "    </tr>\n",
       "    <tr>\n",
       "      <th>1</th>\n",
       "      <td>18102</td>\n",
       "      <td>64122</td>\n",
       "      <td>256438.49</td>\n",
       "    </tr>\n",
       "    <tr>\n",
       "      <th>2</th>\n",
       "      <td>17450</td>\n",
       "      <td>69029</td>\n",
       "      <td>187482.17</td>\n",
       "    </tr>\n",
       "    <tr>\n",
       "      <th>3</th>\n",
       "      <td>14911</td>\n",
       "      <td>77180</td>\n",
       "      <td>132572.62</td>\n",
       "    </tr>\n",
       "    <tr>\n",
       "      <th>4</th>\n",
       "      <td>12415</td>\n",
       "      <td>77242</td>\n",
       "      <td>123725.45</td>\n",
       "    </tr>\n",
       "  </tbody>\n",
       "</table>\n",
       "</div>"
      ],
      "text/plain": [
       "   CustomerID  Total_quantity  Total_sum\n",
       "0       14646          196719  279489.02\n",
       "1       18102           64122  256438.49\n",
       "2       17450           69029  187482.17\n",
       "3       14911           77180  132572.62\n",
       "4       12415           77242  123725.45"
      ]
     },
     "execution_count": 24,
     "metadata": {},
     "output_type": "execute_result"
    }
   ],
   "source": [
    "# Группируем по покупателю, суммируем и сортируем по убыванию\n",
    "\n",
    "ltv_df = rfm_df\\\n",
    "         .groupby(by=['CustomerID'])[['Quantity', 'Sum']]\\\n",
    "         .sum()\\\n",
    "         .rename(columns={'Quantity':'Total_quantity', 'Sum':'Total_sum'})\\\n",
    "         .sort_values(by='Total_sum', ascending=False)\\\n",
    "         .reset_index()\n",
    "\n",
    "ltv_df.head()"
   ]
  },
  {
   "cell_type": "code",
   "execution_count": 25,
   "id": "4d889e4f",
   "metadata": {},
   "outputs": [
    {
     "data": {
      "image/png": "[encoded data removed]",
      "text/plain": [
       "<Figure size 720x432 with 1 Axes>"
      ]
     },
     "metadata": {
      "needs_background": "light"
     },
     "output_type": "display_data"
    }
   ],
   "source": [
    "plot(ltv_df['Total_sum'], 'Распределение общей суммы заказов клиентов')"
   ]
  },
  {
   "cell_type": "code",
   "execution_count": 26,
   "id": "983560ac",
   "metadata": {},
   "outputs": [
    {
     "data": {
      "text/plain": [
       "count      4372.000000\n",
       "mean       1898.459701\n",
       "std        8219.345141\n",
       "min       -4287.630000\n",
       "20%         234.392000\n",
       "40%         465.412000\n",
       "50%         648.075000\n",
       "60%         909.134000\n",
       "80%        2002.092000\n",
       "90%        3505.600000\n",
       "99%       17226.294900\n",
       "max      279489.020000\n",
       "Name: Total_sum, dtype: float64"
      ]
     },
     "execution_count": 26,
     "metadata": {},
     "output_type": "execute_result"
    }
   ],
   "source": [
    "#Изучаем однородность данных\n",
    "\n",
    "percentiles = np.append(np.linspace(0.2, 0.8, num=4), [0.9, 0.99])\n",
    "\n",
    "ltv_df['Total_sum'].describe(percentiles = percentiles)"
   ]
  },
  {
   "cell_type": "markdown",
   "id": "b58109f8",
   "metadata": {},
   "source": [
    "<div class=\"alert alert-block alert-info\">\n",
    "<b>Вывод:</b> Так же как и с частотой видна разница между максимальной общей суммой заказов покупателя и 99% другими покупателями. Узнаем ID таких клиентов и посчитаем их количество.\n",
    "</div>"
   ]
  },
  {
   "cell_type": "code",
   "execution_count": 27,
   "id": "165ed75e",
   "metadata": {},
   "outputs": [
    {
     "data": {
      "text/html": [
       "<div>\n",
       "<style scoped>\n",
       "    .dataframe tbody tr th:only-of-type {\n",
       "        vertical-align: middle;\n",
       "    }\n",
       "\n",
       "    .dataframe tbody tr th {\n",
       "        vertical-align: top;\n",
       "    }\n",
       "\n",
       "    .dataframe thead th {\n",
       "        text-align: right;\n",
       "    }\n",
       "</style>\n",
       "<table border=\"1\" class=\"dataframe\">\n",
       "  <thead>\n",
       "    <tr style=\"text-align: right;\">\n",
       "      <th></th>\n",
       "      <th>CustomerID</th>\n",
       "      <th>Total_quantity</th>\n",
       "      <th>Total_sum</th>\n",
       "    </tr>\n",
       "  </thead>\n",
       "  <tbody>\n",
       "    <tr>\n",
       "      <th>0</th>\n",
       "      <td>14646</td>\n",
       "      <td>196719</td>\n",
       "      <td>279489.02</td>\n",
       "    </tr>\n",
       "    <tr>\n",
       "      <th>1</th>\n",
       "      <td>18102</td>\n",
       "      <td>64122</td>\n",
       "      <td>256438.49</td>\n",
       "    </tr>\n",
       "    <tr>\n",
       "      <th>2</th>\n",
       "      <td>17450</td>\n",
       "      <td>69029</td>\n",
       "      <td>187482.17</td>\n",
       "    </tr>\n",
       "    <tr>\n",
       "      <th>3</th>\n",
       "      <td>14911</td>\n",
       "      <td>77180</td>\n",
       "      <td>132572.62</td>\n",
       "    </tr>\n",
       "    <tr>\n",
       "      <th>4</th>\n",
       "      <td>12415</td>\n",
       "      <td>77242</td>\n",
       "      <td>123725.45</td>\n",
       "    </tr>\n",
       "  </tbody>\n",
       "</table>\n",
       "</div>"
      ],
      "text/plain": [
       "   CustomerID  Total_quantity  Total_sum\n",
       "0       14646          196719  279489.02\n",
       "1       18102           64122  256438.49\n",
       "2       17450           69029  187482.17\n",
       "3       14911           77180  132572.62\n",
       "4       12415           77242  123725.45"
      ]
     },
     "execution_count": 27,
     "metadata": {},
     "output_type": "execute_result"
    }
   ],
   "source": [
    "#Фильтруем клиентов с наибольшим значением LTV\n",
    "\n",
    "most_ltv_df = ltv_df[ltv_df['Total_sum']>17226]\n",
    "\n",
    "most_ltv_df.head()"
   ]
  },
  {
   "cell_type": "code",
   "execution_count": 28,
   "id": "14fd92b8",
   "metadata": {},
   "outputs": [
    {
     "name": "stdout",
     "output_type": "stream",
     "text": [
      "Количество покупателей с наибольшей общей суммой заказа - 44\n"
     ]
    }
   ],
   "source": [
    "print(f'Количество покупателей с наибольшей общей суммой заказа - {most_ltv_df.shape[0]}')"
   ]
  },
  {
   "cell_type": "code",
   "execution_count": 29,
   "id": "30bcc149",
   "metadata": {},
   "outputs": [],
   "source": [
    "# Можно выгрузить в Excel для дальнейшей работы\n",
    "\n",
    "most_ltv_df.to_excel('Top LTV.xlsx')"
   ]
  },
  {
   "cell_type": "markdown",
   "id": "27253bf0",
   "metadata": {},
   "source": [
    "## 5.4 Метки RFM для сегментации"
   ]
  },
  {
   "cell_type": "markdown",
   "id": "3e585987",
   "metadata": {},
   "source": [
    "Объединим датасеты, полученные ив пунктах 5.1 - 5.3 и расставим метки RFM для сегментации"
   ]
  },
  {
   "cell_type": "code",
   "execution_count": 30,
   "id": "11b7037b",
   "metadata": {},
   "outputs": [
    {
     "data": {
      "text/html": [
       "<div>\n",
       "<style scoped>\n",
       "    .dataframe tbody tr th:only-of-type {\n",
       "        vertical-align: middle;\n",
       "    }\n",
       "\n",
       "    .dataframe tbody tr th {\n",
       "        vertical-align: top;\n",
       "    }\n",
       "\n",
       "    .dataframe thead th {\n",
       "        text-align: right;\n",
       "    }\n",
       "</style>\n",
       "<table border=\"1\" class=\"dataframe\">\n",
       "  <thead>\n",
       "    <tr style=\"text-align: right;\">\n",
       "      <th></th>\n",
       "      <th>CustomerID</th>\n",
       "      <th>Last_invoice_date</th>\n",
       "      <th>Delta_date</th>\n",
       "      <th>Frequency</th>\n",
       "      <th>Total_quantity</th>\n",
       "      <th>Total_sum</th>\n",
       "    </tr>\n",
       "  </thead>\n",
       "  <tbody>\n",
       "    <tr>\n",
       "      <th>0</th>\n",
       "      <td>12346</td>\n",
       "      <td>2021-01-18</td>\n",
       "      <td>347 days</td>\n",
       "      <td>2</td>\n",
       "      <td>0</td>\n",
       "      <td>0.00</td>\n",
       "    </tr>\n",
       "    <tr>\n",
       "      <th>1</th>\n",
       "      <td>12347</td>\n",
       "      <td>2021-12-07</td>\n",
       "      <td>24 days</td>\n",
       "      <td>182</td>\n",
       "      <td>2458</td>\n",
       "      <td>4310.00</td>\n",
       "    </tr>\n",
       "    <tr>\n",
       "      <th>2</th>\n",
       "      <td>12348</td>\n",
       "      <td>2021-09-25</td>\n",
       "      <td>97 days</td>\n",
       "      <td>31</td>\n",
       "      <td>2341</td>\n",
       "      <td>1797.24</td>\n",
       "    </tr>\n",
       "    <tr>\n",
       "      <th>3</th>\n",
       "      <td>12349</td>\n",
       "      <td>2021-11-21</td>\n",
       "      <td>40 days</td>\n",
       "      <td>73</td>\n",
       "      <td>631</td>\n",
       "      <td>1757.55</td>\n",
       "    </tr>\n",
       "    <tr>\n",
       "      <th>4</th>\n",
       "      <td>12350</td>\n",
       "      <td>2021-02-02</td>\n",
       "      <td>332 days</td>\n",
       "      <td>17</td>\n",
       "      <td>197</td>\n",
       "      <td>334.40</td>\n",
       "    </tr>\n",
       "  </tbody>\n",
       "</table>\n",
       "</div>"
      ],
      "text/plain": [
       "   CustomerID Last_invoice_date Delta_date  Frequency  Total_quantity  \\\n",
       "0       12346        2021-01-18   347 days          2               0   \n",
       "1       12347        2021-12-07    24 days        182            2458   \n",
       "2       12348        2021-09-25    97 days         31            2341   \n",
       "3       12349        2021-11-21    40 days         73             631   \n",
       "4       12350        2021-02-02   332 days         17             197   \n",
       "\n",
       "   Total_sum  \n",
       "0       0.00  \n",
       "1    4310.00  \n",
       "2    1797.24  \n",
       "3    1757.55  \n",
       "4     334.40  "
      ]
     },
     "execution_count": 30,
     "metadata": {},
     "output_type": "execute_result"
    }
   ],
   "source": [
    "#Объединяем датасеты\n",
    "\n",
    "final_df = last_date_df.merge(freq_df, on='CustomerID').merge(ltv_df, on='CustomerID')\n",
    "\n",
    "final_df.head()"
   ]
  },
  {
   "cell_type": "markdown",
   "id": "2a906602",
   "metadata": {},
   "source": [
    "**Для рассчета меток степеней возьмем данные из шагов 1-3 данного раздела**.\n",
    "\n",
    "**Степени R (Recency)** - насколько давно клиент сделал свой последний заказ:\n",
    "- Степень 1 - <38 дней. Это уровень нижнего квартиля. То есть заказывали недавно.\n",
    "- Степень 2 - <72 дней. Это уровень медианы.\n",
    "- Степень 3 - \\>72 дней. Как мы выяснили 50% покупателей делали заказы в интервале от 72 до 395 дней назад. Эти клиенты заказывали давно.\n",
    "\n",
    "\n",
    "**Степени F (Frequency)** — частота заказов клиента:\n",
    "- Степень 1 - \\>=672 заказов. Так как у нас есть 1% клиентов, которые совершили от 672 до 7983 покупок, будем считать частым от 672 заказов.\n",
    "- Степень 2 - <672 заказов. \n",
    "- Степень 3 - <124 заказов. Таких клиентов будем считать, что заказывают они не часто в сравнении с другими.\n",
    "\n",
    "\n",
    "**Степени M (Monetary)** — общая сумма заказа каждого клиента:\n",
    "- Степень 1 - \\>=17226. 1 % клиентов закупали на суммы в интервали от 17226 до 279489 (максимум). Это самые прибыльные клиенты.\n",
    "- Степень 2 - <17226.\n",
    "- Степень 3 - <2002. 80% клиентов закупали на суммы ниже 2002 у.е."
   ]
  },
  {
   "cell_type": "code",
   "execution_count": 31,
   "id": "8563b145",
   "metadata": {},
   "outputs": [],
   "source": [
    "# Создаем функцию расстановки меток F и M\n",
    "\n",
    "def put_rfm_marks(num, comp_tuple):\n",
    "    if num >= comp_tuple[0]:\n",
    "        return 1\n",
    "    if num < comp_tuple[1]:\n",
    "        return 3\n",
    "    if num < comp_tuple[0]:\n",
    "        return 2"
   ]
  },
  {
   "cell_type": "code",
   "execution_count": 32,
   "id": "322e6176",
   "metadata": {},
   "outputs": [
    {
     "data": {
      "text/html": [
       "<div>\n",
       "<style scoped>\n",
       "    .dataframe tbody tr th:only-of-type {\n",
       "        vertical-align: middle;\n",
       "    }\n",
       "\n",
       "    .dataframe tbody tr th {\n",
       "        vertical-align: top;\n",
       "    }\n",
       "\n",
       "    .dataframe thead th {\n",
       "        text-align: right;\n",
       "    }\n",
       "</style>\n",
       "<table border=\"1\" class=\"dataframe\">\n",
       "  <thead>\n",
       "    <tr style=\"text-align: right;\">\n",
       "      <th></th>\n",
       "      <th>CustomerID</th>\n",
       "      <th>Last_invoice_date</th>\n",
       "      <th>Delta_date</th>\n",
       "      <th>Frequency</th>\n",
       "      <th>Total_quantity</th>\n",
       "      <th>Total_sum</th>\n",
       "      <th>R</th>\n",
       "      <th>F</th>\n",
       "      <th>M</th>\n",
       "    </tr>\n",
       "  </thead>\n",
       "  <tbody>\n",
       "    <tr>\n",
       "      <th>0</th>\n",
       "      <td>12346</td>\n",
       "      <td>2021-01-18</td>\n",
       "      <td>347 days</td>\n",
       "      <td>2</td>\n",
       "      <td>0</td>\n",
       "      <td>0.00</td>\n",
       "      <td>3</td>\n",
       "      <td>3</td>\n",
       "      <td>3</td>\n",
       "    </tr>\n",
       "    <tr>\n",
       "      <th>1</th>\n",
       "      <td>12347</td>\n",
       "      <td>2021-12-07</td>\n",
       "      <td>24 days</td>\n",
       "      <td>182</td>\n",
       "      <td>2458</td>\n",
       "      <td>4310.00</td>\n",
       "      <td>1</td>\n",
       "      <td>2</td>\n",
       "      <td>2</td>\n",
       "    </tr>\n",
       "    <tr>\n",
       "      <th>2</th>\n",
       "      <td>12348</td>\n",
       "      <td>2021-09-25</td>\n",
       "      <td>97 days</td>\n",
       "      <td>31</td>\n",
       "      <td>2341</td>\n",
       "      <td>1797.24</td>\n",
       "      <td>3</td>\n",
       "      <td>3</td>\n",
       "      <td>3</td>\n",
       "    </tr>\n",
       "    <tr>\n",
       "      <th>3</th>\n",
       "      <td>12349</td>\n",
       "      <td>2021-11-21</td>\n",
       "      <td>40 days</td>\n",
       "      <td>73</td>\n",
       "      <td>631</td>\n",
       "      <td>1757.55</td>\n",
       "      <td>2</td>\n",
       "      <td>3</td>\n",
       "      <td>3</td>\n",
       "    </tr>\n",
       "    <tr>\n",
       "      <th>4</th>\n",
       "      <td>12350</td>\n",
       "      <td>2021-02-02</td>\n",
       "      <td>332 days</td>\n",
       "      <td>17</td>\n",
       "      <td>197</td>\n",
       "      <td>334.40</td>\n",
       "      <td>3</td>\n",
       "      <td>3</td>\n",
       "      <td>3</td>\n",
       "    </tr>\n",
       "    <tr>\n",
       "      <th>...</th>\n",
       "      <td>...</td>\n",
       "      <td>...</td>\n",
       "      <td>...</td>\n",
       "      <td>...</td>\n",
       "      <td>...</td>\n",
       "      <td>...</td>\n",
       "      <td>...</td>\n",
       "      <td>...</td>\n",
       "      <td>...</td>\n",
       "    </tr>\n",
       "    <tr>\n",
       "      <th>4367</th>\n",
       "      <td>18280</td>\n",
       "      <td>2021-03-07</td>\n",
       "      <td>299 days</td>\n",
       "      <td>10</td>\n",
       "      <td>45</td>\n",
       "      <td>180.60</td>\n",
       "      <td>3</td>\n",
       "      <td>3</td>\n",
       "      <td>3</td>\n",
       "    </tr>\n",
       "    <tr>\n",
       "      <th>4368</th>\n",
       "      <td>18281</td>\n",
       "      <td>2021-06-12</td>\n",
       "      <td>202 days</td>\n",
       "      <td>7</td>\n",
       "      <td>54</td>\n",
       "      <td>80.82</td>\n",
       "      <td>3</td>\n",
       "      <td>3</td>\n",
       "      <td>3</td>\n",
       "    </tr>\n",
       "    <tr>\n",
       "      <th>4369</th>\n",
       "      <td>18282</td>\n",
       "      <td>2021-12-02</td>\n",
       "      <td>29 days</td>\n",
       "      <td>13</td>\n",
       "      <td>98</td>\n",
       "      <td>176.60</td>\n",
       "      <td>1</td>\n",
       "      <td>3</td>\n",
       "      <td>3</td>\n",
       "    </tr>\n",
       "    <tr>\n",
       "      <th>4370</th>\n",
       "      <td>18283</td>\n",
       "      <td>2021-12-06</td>\n",
       "      <td>25 days</td>\n",
       "      <td>756</td>\n",
       "      <td>1397</td>\n",
       "      <td>2094.88</td>\n",
       "      <td>1</td>\n",
       "      <td>1</td>\n",
       "      <td>2</td>\n",
       "    </tr>\n",
       "    <tr>\n",
       "      <th>4371</th>\n",
       "      <td>18287</td>\n",
       "      <td>2021-10-28</td>\n",
       "      <td>64 days</td>\n",
       "      <td>70</td>\n",
       "      <td>1586</td>\n",
       "      <td>1837.28</td>\n",
       "      <td>2</td>\n",
       "      <td>3</td>\n",
       "      <td>3</td>\n",
       "    </tr>\n",
       "  </tbody>\n",
       "</table>\n",
       "<p>4372 rows × 9 columns</p>\n",
       "</div>"
      ],
      "text/plain": [
       "      CustomerID Last_invoice_date Delta_date  Frequency  Total_quantity  \\\n",
       "0          12346        2021-01-18   347 days          2               0   \n",
       "1          12347        2021-12-07    24 days        182            2458   \n",
       "2          12348        2021-09-25    97 days         31            2341   \n",
       "3          12349        2021-11-21    40 days         73             631   \n",
       "4          12350        2021-02-02   332 days         17             197   \n",
       "...          ...               ...        ...        ...             ...   \n",
       "4367       18280        2021-03-07   299 days         10              45   \n",
       "4368       18281        2021-06-12   202 days          7              54   \n",
       "4369       18282        2021-12-02    29 days         13              98   \n",
       "4370       18283        2021-12-06    25 days        756            1397   \n",
       "4371       18287        2021-10-28    64 days         70            1586   \n",
       "\n",
       "      Total_sum  R  F  M  \n",
       "0          0.00  3  3  3  \n",
       "1       4310.00  1  2  2  \n",
       "2       1797.24  3  3  3  \n",
       "3       1757.55  2  3  3  \n",
       "4        334.40  3  3  3  \n",
       "...         ... .. .. ..  \n",
       "4367     180.60  3  3  3  \n",
       "4368      80.82  3  3  3  \n",
       "4369     176.60  1  3  3  \n",
       "4370    2094.88  1  1  2  \n",
       "4371    1837.28  2  3  3  \n",
       "\n",
       "[4372 rows x 9 columns]"
      ]
     },
     "execution_count": 32,
     "metadata": {},
     "output_type": "execute_result"
    }
   ],
   "source": [
    "delta_1 = datetime.timedelta(days=72)\n",
    "delta_2 = datetime.timedelta(days=38)\n",
    "f_tuple, m_tuple = (672, 124), (17226, 2002)\n",
    "\n",
    "final_df['R'] = [1 if x < delta_2 else 2 if x < delta_1 else 3 for x in final_df['Delta_date']]\n",
    "final_df['F'] = final_df['Frequency'].apply(lambda x: put_rfm_marks(x, f_tuple))\n",
    "final_df['M'] = final_df['Total_sum'].apply(lambda x: put_rfm_marks(x, m_tuple))\n",
    "\n",
    "final_df"
   ]
  },
  {
   "cell_type": "markdown",
   "id": "e96de4ae",
   "metadata": {},
   "source": [
    "## 5.5 Cегментация клиентов"
   ]
  },
  {
   "cell_type": "markdown",
   "id": "e343285c",
   "metadata": {},
   "source": [
    "**Проведем сегментацию клиентов и выгрузим в Excel для работы**"
   ]
  },
  {
   "cell_type": "markdown",
   "id": "b51dbe62",
   "metadata": {},
   "source": [
    "- Идентифицируем ключевых покупателей, который покупают часто и много и последний заказ был недавно. "
   ]
  },
  {
   "cell_type": "code",
   "execution_count": 33,
   "id": "97a0b2a7",
   "metadata": {},
   "outputs": [
    {
     "name": "stdout",
     "output_type": "stream",
     "text": [
      "Количество ключевых клиентов - 14\n"
     ]
    }
   ],
   "source": [
    "key_clients = final_df[(final_df['R']==1) & (final_df['F']==1) & (final_df['M']==1)]\n",
    "\n",
    "key_clients.to_excel('key_clients.xlsx')\n",
    "\n",
    "print(f'Количество ключевых клиентов - {key_clients.shape[0]}')"
   ]
  },
  {
   "cell_type": "markdown",
   "id": "06d14317",
   "metadata": {},
   "source": [
    "- Идентифицируем клиентов, которые покупают часто, но либо мало, либо с маленьким средним чеком. "
   ]
  },
  {
   "cell_type": "code",
   "execution_count": 34,
   "id": "4b4eddd0",
   "metadata": {},
   "outputs": [
    {
     "name": "stdout",
     "output_type": "stream",
     "text": [
      "Количество клиентов, которые покупают часто, но либо мало, либо с маленьким средним чеком - 0\n"
     ]
    }
   ],
   "source": [
    "frequent_min_sum_clients = final_df[(final_df['F']==1) & (final_df['M']==3)]\n",
    "\n",
    "print(f'Количество клиентов, которые покупают часто, но либо мало, либо с маленьким средним чеком - '\n",
    "      f'{frequent_min_sum_clients.shape[0]}')"
   ]
  },
  {
   "cell_type": "markdown",
   "id": "09c4e165",
   "metadata": {},
   "source": [
    "<div class=\"alert alert-block alert-info\">\n",
    "<b>Вывод:</b> Как оказалось, у нас таких нет, у нас все нормальные ребята))\n",
    "</div>"
   ]
  },
  {
   "cell_type": "markdown",
   "id": "8a1256e4",
   "metadata": {},
   "source": [
    "- Идентифицируем клиентов, которые раньше покупали часто и много, но по какой-то причине перестали покупать. "
   ]
  },
  {
   "cell_type": "code",
   "execution_count": 35,
   "id": "55c1970e",
   "metadata": {},
   "outputs": [
    {
     "name": "stdout",
     "output_type": "stream",
     "text": [
      "Количество клиентов, которые раньше покупали часто и много, но по какой-то причине перестали покупать - 0\n"
     ]
    }
   ],
   "source": [
    "old_maj_clients = final_df[(final_df['R']==3) & (final_df['F']==1) & (final_df['M']==1)]\n",
    "\n",
    "print(f'Количество клиентов, которые раньше покупали часто и много, но по какой-то причине перестали покупать - '\n",
    "      f'{old_maj_clients.shape[0]}')"
   ]
  },
  {
   "cell_type": "markdown",
   "id": "d5018b6a",
   "metadata": {},
   "source": [
    "<div class=\"alert alert-block alert-info\">\n",
    "<b>Вывод:</b> И таких у нас тоже не оказалось. Потрясающе!\n",
    "</div>"
   ]
  },
  {
   "cell_type": "markdown",
   "id": "c10d2945",
   "metadata": {},
   "source": [
    "- Можем в таком случае посмотреть, есть ли у нас клиенты, которые имели средний чек и частоту покупок, но покинули наш сервис("
   ]
  },
  {
   "cell_type": "code",
   "execution_count": 36,
   "id": "36885991",
   "metadata": {},
   "outputs": [
    {
     "name": "stdout",
     "output_type": "stream",
     "text": [
      "Количество клиентов, которые имели средний чек и частоту покупок, но покинули наш сервис - 78\n"
     ]
    }
   ],
   "source": [
    "old_avg_clients = final_df[(final_df['R']==3) & (final_df['F']==2) & (final_df['M']==2)]\n",
    "\n",
    "print(f'Количество клиентов, которые имели средний чек и частоту покупок, но покинули наш сервис - '\n",
    "      f'{old_avg_clients.shape[0]}')"
   ]
  },
  {
   "cell_type": "markdown",
   "id": "acb64ba7",
   "metadata": {},
   "source": [
    "# 6. Выводы"
   ]
  },
  {
   "cell_type": "markdown",
   "id": "0bd5e75e",
   "metadata": {},
   "source": [
    "1. Хотя данные и искуственные, что-то интересное получить удалось. Например, мы выявили ключевых клиентов. Далее список таких клиентов мы можем передать менеджерам и маркетологам для дальнейшей работы.\n",
    "2. Выяснили, что  у нас нет клиентов, которые раньше покупали часто и много, но по какой-то причине перестали покупать, а также выяснили, что наши клиенты не закупают на слишком маленькие суммы.\n",
    "3. Зато выявили клиентов, которые имели средний чек и частоту покупок, но покинули наш сервис. Таких мы также передадим специалистам по работе с клиентами, они могут провести опрос и выяснить причины ухода.\n",
    "\n",
    "\n",
    "В целом можем смотреть различные комбинации RFM-анализа в зависимости от наших целей."
   ]
  },
  {
   "cell_type": "code",
   "execution_count": null,
   "id": "e99e93c6",
   "metadata": {},
   "outputs": [],
   "source": []
  }
 ],
 "metadata": {
  "kernelspec": {
   "display_name": "Python 3",
   "language": "python",
   "name": "python3"
  },
  "language_info": {
   "codemirror_mode": {
    "name": "ipython",
    "version": 3
   },
   "file_extension": ".py",
   "mimetype": "text/x-python",
   "name": "python",
   "nbconvert_exporter": "python",
   "pygments_lexer": "ipython3",
   "version": "3.9.4"
  }
 },
 "nbformat": 4,
 "nbformat_minor": 5
}
